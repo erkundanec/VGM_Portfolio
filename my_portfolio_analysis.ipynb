{
 "cells": [
  {
   "cell_type": "markdown",
   "metadata": {},
   "source": [
    "# My Portfolio"
   ]
  },
  {
   "cell_type": "markdown",
   "metadata": {},
   "source": [
    "## Import list of stocks"
   ]
  },
  {
   "cell_type": "code",
   "execution_count": 33,
   "metadata": {},
   "outputs": [
    {
     "name": "stdout",
     "output_type": "stream",
     "text": [
      "Benchmark selected: ^NSEI\n"
     ]
    },
    {
     "data": {
      "text/html": [
       "<div>\n",
       "<style scoped>\n",
       "    .dataframe tbody tr th:only-of-type {\n",
       "        vertical-align: middle;\n",
       "    }\n",
       "\n",
       "    .dataframe tbody tr th {\n",
       "        vertical-align: top;\n",
       "    }\n",
       "\n",
       "    .dataframe thead th {\n",
       "        text-align: right;\n",
       "    }\n",
       "</style>\n",
       "<table border=\"1\" class=\"dataframe\">\n",
       "  <thead>\n",
       "    <tr style=\"text-align: right;\">\n",
       "      <th></th>\n",
       "      <th>Symbol</th>\n",
       "      <th>Asset</th>\n",
       "    </tr>\n",
       "  </thead>\n",
       "  <tbody>\n",
       "    <tr>\n",
       "      <th>0</th>\n",
       "      <td>HDFCBANK.NS</td>\n",
       "      <td>Stock</td>\n",
       "    </tr>\n",
       "    <tr>\n",
       "      <th>1</th>\n",
       "      <td>TCS.NS</td>\n",
       "      <td>Stock</td>\n",
       "    </tr>\n",
       "    <tr>\n",
       "      <th>2</th>\n",
       "      <td>ASIANPAINT.NS</td>\n",
       "      <td>Stock</td>\n",
       "    </tr>\n",
       "    <tr>\n",
       "      <th>3</th>\n",
       "      <td>RELIANCE.NS</td>\n",
       "      <td>Stock</td>\n",
       "    </tr>\n",
       "    <tr>\n",
       "      <th>4</th>\n",
       "      <td>INFY.NS</td>\n",
       "      <td>Stock</td>\n",
       "    </tr>\n",
       "    <tr>\n",
       "      <th>5</th>\n",
       "      <td>HINDUNILVR.NS</td>\n",
       "      <td>Stock</td>\n",
       "    </tr>\n",
       "  </tbody>\n",
       "</table>\n",
       "</div>"
      ],
      "text/plain": [
       "          Symbol  Asset\n",
       "0    HDFCBANK.NS  Stock\n",
       "1         TCS.NS  Stock\n",
       "2  ASIANPAINT.NS  Stock\n",
       "3    RELIANCE.NS  Stock\n",
       "4        INFY.NS  Stock\n",
       "5  HINDUNILVR.NS  Stock"
      ]
     },
     "execution_count": 33,
     "metadata": {},
     "output_type": "execute_result"
    }
   ],
   "source": [
    "import pandas as pd\n",
    "import matplotlib.pyplot as plt\n",
    "import xlwings as xw\n",
    "\n",
    "# Load the Excel file from 'Sheet1' into a DataFrame\n",
    "df = pd.read_excel('datasets/AILabsFinance_Offerings.xlsx', sheet_name='Symbols')\n",
    "\n",
    "benchmark = df['Benchmark'].iloc[0]\n",
    "print(f'Benchmark selected: {benchmark}')\n",
    "df = df[['Symbol','Asset']]\n",
    "df"
   ]
  },
  {
   "cell_type": "markdown",
   "metadata": {},
   "source": [
    "## Asset allocation - Donut Plot"
   ]
  },
  {
   "cell_type": "code",
   "execution_count": 7,
   "metadata": {},
   "outputs": [],
   "source": [
    "# Define asset categories and initialize with zero\n",
    "all_assets = ['Stock', 'ETF', 'Cash']\n",
    "asset_dict = {asset: 0 for asset in all_assets}\n",
    "\n",
    "# Update with actual data from DataFrame\n",
    "asset_counts = df['Asset'].value_counts(normalize=True) * 100\n",
    "asset_dict.update(asset_counts)\n",
    "\n",
    "# Prepare labels, sizes, and other chart properties\n",
    "labels, sizes = list(asset_dict.keys()), list(asset_dict.values())\n",
    "colors = ['#FFA500', '#FFD700', '#FF6347', '#FF1493', '#FF4500']\n",
    "explode = [0.05 if label == 'Stock' else 0 for label in labels]\n",
    "\n",
    "# Create donut chart\n",
    "fig, ax = plt.subplots(figsize=(5, 5))\n",
    "\n",
    "# Reduce white space with tighter layout\n",
    "plt.subplots_adjust(left=0, right=1, top=1, bottom=0)\n",
    "ax.set_position([0, 0, 1, 1])  # Fill the entire space of the plot\n",
    "\n",
    "# Plot the pie chart\n",
    "wedges, _ = ax.pie(sizes, colors=colors, startangle=90, explode=explode, \n",
    "                   wedgeprops={'width': 0.3, 'edgecolor': 'white'})\n",
    "\n",
    "# Donut shape\n",
    "centre_circle = plt.Circle((0, 0), 0.70, fc='white')\n",
    "ax.add_artist(centre_circle)\n",
    "\n",
    "# Equal aspect ratio ensures the pie chart is a circle\n",
    "plt.axis('equal')\n",
    "\n",
    "# Title and legend\n",
    "# plt.title('My Asset Allocation', fontsize=16)\n",
    "legend_labels = [f'{label}: {size:.2f}%' for label, size in zip(labels, sizes)]\n",
    "ax.legend(wedges, legend_labels, loc=\"center left\",fontsize=26, bbox_to_anchor=(1, 0, 0.5, 1))\n",
    "\n",
    "# Save the figure to Excel using xlwings\n",
    "wb = xw.Book('datasets/AILabsFinance_Offerings.xlsx')\n",
    "sht = wb.sheets['Symbols']  # Explicitly reference Sheet1\n",
    "\n",
    "# Remove any existing picture with the same name\n",
    "for pic in sht.pictures:\n",
    "    if pic.name == 'Asset Allocation':\n",
    "        pic.api.Delete()\n",
    "\n",
    "# Add new picture\n",
    "sht.pictures.add(fig, name='Asset Allocation', update=True, \n",
    "                 left=sht.range('B20').left, top=sht.range('B2').top, width=300)\n",
    "\n",
    "plt.close()  # Close the plot after saving\n"
   ]
  },
  {
   "cell_type": "code",
   "execution_count": null,
   "metadata": {},
   "outputs": [],
   "source": []
  },
  {
   "cell_type": "code",
   "execution_count": 11,
   "metadata": {},
   "outputs": [
    {
     "name": "stderr",
     "output_type": "stream",
     "text": [
      "[*********************100%%**********************]  6 of 6 completed\n",
      "[*********************100%%**********************]  1 of 1 completed"
     ]
    },
    {
     "name": "stdout",
     "output_type": "stream",
     "text": [
      "Individual Asset Scores:\n",
      "          Symbol       Score\n",
      "0    HDFCBANK.NS  101.025162\n",
      "1         TCS.NS  101.030983\n",
      "2  ASIANPAINT.NS  101.019881\n",
      "3    RELIANCE.NS  101.013511\n",
      "4        INFY.NS  100.979738\n",
      "5  HINDUNILVR.NS  101.023216\n",
      "\n",
      "Portfolio RRG Score: 101.01541507235216\n"
     ]
    },
    {
     "name": "stderr",
     "output_type": "stream",
     "text": [
      "\n"
     ]
    }
   ],
   "source": [
    "import yfinance as yf\n",
    "import pandas as pd\n",
    "from datetime import datetime, timedelta\n",
    "\n",
    "# Define the tickers and benchmark\n",
    "tickers = df['Symbol'].to_list()\n",
    "benchmark = '^NSEI'  # Example benchmark index\n",
    "\n",
    "# Calculate the start and end dates for the last year\n",
    "end_date = datetime.now()\n",
    "start_date = end_date - timedelta(days=365)\n",
    "\n",
    "# Download historical data\n",
    "tickers_data = yf.download(tickers, start=start_date, end=end_date)['Adj Close']\n",
    "benchmark_data = yf.download(benchmark, start=start_date, end=end_date)['Adj Close']\n",
    "\n",
    "# Parameters\n",
    "window = 14  # Rolling window size\n",
    "\n",
    "# Initialize lists to store metrics\n",
    "rs_tickers = []\n",
    "rsr_tickers = []\n",
    "rsr_roc_tickers = []\n",
    "rsm_tickers = []\n",
    "\n",
    "# Compute metrics for each ticker\n",
    "for ticker in tickers:\n",
    "    # Calculate Relative Strength (RS)\n",
    "    rs = 100 * (tickers_data[ticker] / benchmark_data)\n",
    "    rs_tickers.append(rs)\n",
    "\n",
    "    # Calculate Relative Strength Ratio (RSR)\n",
    "    rs_rolling_mean = rs.rolling(window=window).mean()\n",
    "    rs_rolling_std = rs.rolling(window=window).std(ddof=0)\n",
    "    rsr = (100 + (rs - rs_rolling_mean) / rs_rolling_std).dropna()\n",
    "    rsr_tickers.append(rsr)\n",
    "\n",
    "    # Calculate Rate of Change (ROC) of RSR\n",
    "    rsr_roc = 100 * ((rsr / rsr.shift(1)) - 1)\n",
    "    rsr_roc_tickers.append(rsr_roc.dropna())\n",
    "\n",
    "    # Calculate Relative Strength Momentum (RSM)\n",
    "    rsm_rolling_mean = rsr_roc.rolling(window=window).mean()\n",
    "    rsm_rolling_std = rsr_roc.rolling(window=window).std(ddof=0)\n",
    "    rsm = (101 + ((rsr_roc - rsm_rolling_mean) / rsm_rolling_std)).dropna()\n",
    "    rsm_tickers.append(rsm)\n",
    "\n",
    "    # Ensure RSR and RSM have the same indices\n",
    "    rsr_tickers[-1] = rsr_tickers[-1][rsr_tickers[-1].index.isin(rsm_tickers[-1].index)]\n",
    "    rsm_tickers[-1] = rsm_tickers[-1][rsm_tickers[-1].index.isin(rsr_tickers[-1].index)]\n",
    "\n",
    "import pandas as pd\n",
    "\n",
    "# Create a list to store final scores\n",
    "final_scores_list = []\n",
    "\n",
    "for i, ticker in enumerate(tickers):\n",
    "    # Compute the final score for each ticker\n",
    "    final_score = rsm_tickers[i].mean() if not rsm_tickers[i].empty else None\n",
    "    final_scores_list.append({'Symbol': ticker, 'Score': final_score})\n",
    "\n",
    "# Create a DataFrame from the list\n",
    "final_scores = pd.DataFrame(final_scores_list)\n",
    "\n",
    "# Compute the Portfolio RRG Score\n",
    "portfolio_score = final_scores['Score'].mean()\n",
    "\n",
    "print(\"Individual Asset Scores:\")\n",
    "print(final_scores)\n",
    "print(\"\\nPortfolio RRG Score:\", portfolio_score)\n",
    "\n"
   ]
  },
  {
   "cell_type": "code",
   "execution_count": 12,
   "metadata": {},
   "outputs": [
    {
     "data": {
      "text/plain": [
       "['HDFCBANK.NS',\n",
       " 'TCS.NS',\n",
       " 'ASIANPAINT.NS',\n",
       " 'RELIANCE.NS',\n",
       " 'INFY.NS',\n",
       " 'HINDUNILVR.NS']"
      ]
     },
     "execution_count": 12,
     "metadata": {},
     "output_type": "execute_result"
    }
   ],
   "source": [
    "tickers"
   ]
  },
  {
   "cell_type": "code",
   "execution_count": 13,
   "metadata": {},
   "outputs": [],
   "source": [
    "# Prepare DataFrame for scoring\n",
    "score_df = pd.DataFrame({\n",
    "    'Symbol': tickers,\n",
    "    'RS': [rs_tickers[i].iloc[-1] if not rs_tickers[i].empty else None for i in range(len(tickers))],\n",
    "    'MOM': [rsm_tickers[i].iloc[-1] if not rsm_tickers[i].empty else None for i in range(len(tickers))]\n",
    "})"
   ]
  },
  {
   "cell_type": "code",
   "execution_count": 14,
   "metadata": {},
   "outputs": [
    {
     "data": {
      "text/html": [
       "<div>\n",
       "<style scoped>\n",
       "    .dataframe tbody tr th:only-of-type {\n",
       "        vertical-align: middle;\n",
       "    }\n",
       "\n",
       "    .dataframe tbody tr th {\n",
       "        vertical-align: top;\n",
       "    }\n",
       "\n",
       "    .dataframe thead th {\n",
       "        text-align: right;\n",
       "    }\n",
       "</style>\n",
       "<table border=\"1\" class=\"dataframe\">\n",
       "  <thead>\n",
       "    <tr style=\"text-align: right;\">\n",
       "      <th></th>\n",
       "      <th>Symbol</th>\n",
       "      <th>RS</th>\n",
       "      <th>MOM</th>\n",
       "    </tr>\n",
       "  </thead>\n",
       "  <tbody>\n",
       "    <tr>\n",
       "      <th>0</th>\n",
       "      <td>HDFCBANK.NS</td>\n",
       "      <td>7.076444</td>\n",
       "      <td>102.518904</td>\n",
       "    </tr>\n",
       "    <tr>\n",
       "      <th>1</th>\n",
       "      <td>TCS.NS</td>\n",
       "      <td>16.604838</td>\n",
       "      <td>100.061066</td>\n",
       "    </tr>\n",
       "    <tr>\n",
       "      <th>2</th>\n",
       "      <td>ASIANPAINT.NS</td>\n",
       "      <td>12.293119</td>\n",
       "      <td>103.211352</td>\n",
       "    </tr>\n",
       "    <tr>\n",
       "      <th>3</th>\n",
       "      <td>RELIANCE.NS</td>\n",
       "      <td>11.027971</td>\n",
       "      <td>102.324891</td>\n",
       "    </tr>\n",
       "    <tr>\n",
       "      <th>4</th>\n",
       "      <td>INFY.NS</td>\n",
       "      <td>7.652344</td>\n",
       "      <td>100.098128</td>\n",
       "    </tr>\n",
       "    <tr>\n",
       "      <th>5</th>\n",
       "      <td>HINDUNILVR.NS</td>\n",
       "      <td>10.920931</td>\n",
       "      <td>101.076780</td>\n",
       "    </tr>\n",
       "  </tbody>\n",
       "</table>\n",
       "</div>"
      ],
      "text/plain": [
       "          Symbol         RS         MOM\n",
       "0    HDFCBANK.NS   7.076444  102.518904\n",
       "1         TCS.NS  16.604838  100.061066\n",
       "2  ASIANPAINT.NS  12.293119  103.211352\n",
       "3    RELIANCE.NS  11.027971  102.324891\n",
       "4        INFY.NS   7.652344  100.098128\n",
       "5  HINDUNILVR.NS  10.920931  101.076780"
      ]
     },
     "execution_count": 14,
     "metadata": {},
     "output_type": "execute_result"
    }
   ],
   "source": [
    "score_df"
   ]
  },
  {
   "cell_type": "markdown",
   "metadata": {},
   "source": [
    "## Compare portfolio"
   ]
  },
  {
   "cell_type": "code",
   "execution_count": 11,
   "metadata": {},
   "outputs": [
    {
     "name": "stderr",
     "output_type": "stream",
     "text": [
      "[*********************100%%**********************]  1 of 1 completed\n",
      "[*********************100%%**********************]  1 of 1 completed\n",
      "[*********************100%%**********************]  1 of 1 completed\n",
      "[*********************100%%**********************]  1 of 1 completed\n",
      "[*********************100%%**********************]  1 of 1 completed\n",
      "[*********************100%%**********************]  1 of 1 completed\n",
      "[*********************100%%**********************]  1 of 1 completed"
     ]
    },
    {
     "name": "stdout",
     "output_type": "stream",
     "text": [
      "Shape of DataFrame:  (1464, 8)\n",
      "Number of Tickers: 6\n",
      "[] are removed due to missing data.\n",
      "Duplicate test: there is no duplicate rows.\n",
      "6\n",
      "Shape of DataFrame:  (244, 8)\n",
      "Number of Tickers: 1\n"
     ]
    },
    {
     "name": "stderr",
     "output_type": "stream",
     "text": [
      "\n"
     ]
    }
   ],
   "source": [
    "import os\n",
    "import platform\n",
    "import sys\n",
    "import pandas as pd\n",
    "import datetime as dt\n",
    "from datetime import datetime, timedelta\n",
    "import time\n",
    "import pandas as pd\n",
    "\n",
    "\n",
    "sys.path.append('../../FinRecipes/')                                       # comment this line for server\n",
    "\n",
    "from preprocess import Load_n_Preprocess\n",
    "from models import buy_hold_portfolio_return\n",
    "from plots import plot_returns_drawdown\n",
    "\n",
    "df = pd.read_excel('datasets/AILabsFinance_Offerings.xlsx',sheet_name='Symbols')\n",
    "\n",
    "TICKERS_LIST = df['Symbol'].to_list()\n",
    "start_time = time.time()\n",
    "start_download = time.time()\n",
    "PERIOD = 365*1\n",
    "END_DATE = dt.datetime.now()\n",
    "START_DATE = END_DATE - dt.timedelta(days= PERIOD)\n",
    "\n",
    "LP = Load_n_Preprocess(TICKERS_LIST, START_DATE, END_DATE)\n",
    "df_tics_daily = LP.download_yfinance(is_live = True)\n",
    "df_tics_daily = LP.clean_daily_data(df_tics_daily, missing_values_allowed = 0.01)\n",
    "TICKERS_LIST = df_tics_daily['tic'].unique().tolist()\n",
    "print(len(TICKERS_LIST))\n",
    "# df_tics_daily.to_hdf(PATH_DAILY_DATA,\"df\",mode = 'w')\n",
    "df_return_bnh = buy_hold_portfolio_return(df_tics_daily)\n",
    "\n",
    "# ============================= Prepare data for to plot Buy-Hold returns  ======================\n",
    "df_return_bnh = df_return_bnh.reset_index()\n",
    "df_return_bnh.columns = ['date','Buy_Hold_Returns']\n",
    "df_return_bnh['date'] = pd.to_datetime(df_return_bnh['date'])\n",
    "df_return_bnh = df_return_bnh.set_index(['date'])\n",
    "\n",
    "# # ===============================     Plotting  ====================================\n",
    "INDICES_LIST = ['^NSEI']\n",
    "LP = Load_n_Preprocess(INDICES_LIST, START_DATE, END_DATE)\n",
    "df_indices_daily = LP.download_yfinance(is_live = True)\n",
    "df_indices_close = pd.pivot_table(df_indices_daily, values ='close', index = 'date',columns='tic')\n",
    "df_indices_return = df_indices_close.pct_change().fillna(0)\n",
    "# df_return_bnh['Portfolio_Trend'] = df_return_bnh['Buy_Hold_returns'].rolling(window=TREND_WINDOW).mean()\n",
    "df_return_bnh = df_return_bnh.merge(df_indices_return,how='left',on = 'date')\n",
    "# df_return_bnh = df_return_bnh.drop(columns=['Portfolio_Trend'])\n",
    "\n",
    "df_return_bnh = df_return_bnh.rename(columns = {'Buy_Hold_Returns':'Portfolio 1','^NSEI': 'NIFTY 50'})\n",
    "df_return_bnh = df_return_bnh[['Portfolio 1','NIFTY 50']]\n",
    "\n",
    "plot_returns_drawdown(df_return_bnh, tickers_list = [], filename = 'datasets/Portfolio_BnH', period = 'daily', name_stock_world = None)"
   ]
  },
  {
   "cell_type": "code",
   "execution_count": null,
   "metadata": {},
   "outputs": [],
   "source": [
    "import matplotlib.pyplot as plt\n",
    "import numpy as np\n",
    "\n",
    "# Sample data (replace these with actual portfolio and Nifty data)\n",
    "sectors = ['Communication Services', 'Consumer Discretionary', 'Consumer Staples', 'Energy', \n",
    "           'Financials', 'Health Care', 'Industrials', 'Utilities', 'Information Technology', 'Materials']\n",
    "\n",
    "nifty_weights = [2.59, 6.74, 10.04, 14.24, 28.19, 3.6, 3.0, 1.83, 20.82, 8.97]  # Nifty sector weights\n",
    "portfolio_weights = [2.5, 5.5, 9.0, 12.5, 35, 19.5, 12.3, 0, 3, 0]  # Portfolio sector weights\n",
    "\n",
    "# Create the plot\n",
    "fig, ax = plt.subplots(figsize=(8, 6))\n",
    "\n",
    "# Positioning data\n",
    "index = np.arange(len(sectors))\n",
    "bar_width = 0.4\n",
    "\n",
    "# Plot Nifty and Portfolio weights\n",
    "ax.barh(index - bar_width/2, nifty_weights, bar_width, label='Nifty', color='blue', alpha=0.6)\n",
    "ax.barh(index + bar_width/2, portfolio_weights, bar_width, label='Portfolio', color='red', alpha=0.6)\n",
    "\n",
    "# Labels and titles\n",
    "ax.set_xlabel('Percentage (%)')\n",
    "ax.set_title('Sector Allocation: Nifty vs Portfolio')\n",
    "ax.set_yticks(index)\n",
    "ax.set_yticklabels(sectors)\n",
    "\n",
    "# Adding legend\n",
    "ax.legend()\n",
    "\n",
    "# Display the plot\n",
    "plt.tight_layout()\n",
    "plt.show()"
   ]
  },
  {
   "cell_type": "code",
   "execution_count": null,
   "metadata": {},
   "outputs": [],
   "source": []
  },
  {
   "cell_type": "code",
   "execution_count": null,
   "metadata": {},
   "outputs": [],
   "source": [
    "df_tics_daily"
   ]
  }
 ],
 "metadata": {
  "kernelspec": {
   "display_name": "py12",
   "language": "python",
   "name": "python3"
  },
  "language_info": {
   "codemirror_mode": {
    "name": "ipython",
    "version": 3
   },
   "file_extension": ".py",
   "mimetype": "text/x-python",
   "name": "python",
   "nbconvert_exporter": "python",
   "pygments_lexer": "ipython3",
   "version": "3.12.1"
  }
 },
 "nbformat": 4,
 "nbformat_minor": 2
}
